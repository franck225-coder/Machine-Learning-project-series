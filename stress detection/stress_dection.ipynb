{
 "cells": [
  {
   "cell_type": "markdown",
   "metadata": {},
   "source": [
    "#### **1. Data Exploratory**\n",
    "In the following cells we perform a series of\n",
    "arithmetic operations to get familiar with the \n",
    "data before the visualizing some key observations"
   ]
  },
  {
   "cell_type": "code",
   "execution_count": 2,
   "metadata": {},
   "outputs": [],
   "source": [
    "import pandas as pd\n",
    "import numpy as np\n",
    "import plotly.express as px\n",
    "import matplotlib.pyplot as plt\n",
    "from nltk.corpus import stopwords\n",
    "from wordcloud import WordCloud, STOPWORDS\n",
    "import nltk\n",
    "import string\n",
    "import re"
   ]
  },
  {
   "cell_type": "code",
   "execution_count": 3,
   "metadata": {},
   "outputs": [
    {
     "data": {
      "text/html": [
       "<div>\n",
       "<style scoped>\n",
       "    .dataframe tbody tr th:only-of-type {\n",
       "        vertical-align: middle;\n",
       "    }\n",
       "\n",
       "    .dataframe tbody tr th {\n",
       "        vertical-align: top;\n",
       "    }\n",
       "\n",
       "    .dataframe thead th {\n",
       "        text-align: right;\n",
       "    }\n",
       "</style>\n",
       "<table border=\"1\" class=\"dataframe\">\n",
       "  <thead>\n",
       "    <tr style=\"text-align: right;\">\n",
       "      <th></th>\n",
       "      <th>subreddit</th>\n",
       "      <th>post_id</th>\n",
       "      <th>sentence_range</th>\n",
       "      <th>text</th>\n",
       "      <th>id</th>\n",
       "      <th>label</th>\n",
       "      <th>confidence</th>\n",
       "      <th>social_timestamp</th>\n",
       "      <th>social_karma</th>\n",
       "      <th>syntax_ari</th>\n",
       "      <th>...</th>\n",
       "      <th>lex_dal_min_pleasantness</th>\n",
       "      <th>lex_dal_min_activation</th>\n",
       "      <th>lex_dal_min_imagery</th>\n",
       "      <th>lex_dal_avg_activation</th>\n",
       "      <th>lex_dal_avg_imagery</th>\n",
       "      <th>lex_dal_avg_pleasantness</th>\n",
       "      <th>social_upvote_ratio</th>\n",
       "      <th>social_num_comments</th>\n",
       "      <th>syntax_fk_grade</th>\n",
       "      <th>sentiment</th>\n",
       "    </tr>\n",
       "  </thead>\n",
       "  <tbody>\n",
       "    <tr>\n",
       "      <th>0</th>\n",
       "      <td>ptsd</td>\n",
       "      <td>8601tu</td>\n",
       "      <td>(15, 20)</td>\n",
       "      <td>He said he had not felt that way before, sugge...</td>\n",
       "      <td>33181</td>\n",
       "      <td>1</td>\n",
       "      <td>0.8</td>\n",
       "      <td>1521614353</td>\n",
       "      <td>5</td>\n",
       "      <td>1.806818</td>\n",
       "      <td>...</td>\n",
       "      <td>1.000</td>\n",
       "      <td>1.1250</td>\n",
       "      <td>1.0</td>\n",
       "      <td>1.77000</td>\n",
       "      <td>1.52211</td>\n",
       "      <td>1.89556</td>\n",
       "      <td>0.86</td>\n",
       "      <td>1</td>\n",
       "      <td>3.253573</td>\n",
       "      <td>-0.002742</td>\n",
       "    </tr>\n",
       "    <tr>\n",
       "      <th>1</th>\n",
       "      <td>assistance</td>\n",
       "      <td>8lbrx9</td>\n",
       "      <td>(0, 5)</td>\n",
       "      <td>Hey there r/assistance, Not sure if this is th...</td>\n",
       "      <td>2606</td>\n",
       "      <td>0</td>\n",
       "      <td>1.0</td>\n",
       "      <td>1527009817</td>\n",
       "      <td>4</td>\n",
       "      <td>9.429737</td>\n",
       "      <td>...</td>\n",
       "      <td>1.125</td>\n",
       "      <td>1.0000</td>\n",
       "      <td>1.0</td>\n",
       "      <td>1.69586</td>\n",
       "      <td>1.62045</td>\n",
       "      <td>1.88919</td>\n",
       "      <td>0.65</td>\n",
       "      <td>2</td>\n",
       "      <td>8.828316</td>\n",
       "      <td>0.292857</td>\n",
       "    </tr>\n",
       "    <tr>\n",
       "      <th>2</th>\n",
       "      <td>ptsd</td>\n",
       "      <td>9ch1zh</td>\n",
       "      <td>(15, 20)</td>\n",
       "      <td>My mom then hit me with the newspaper and it s...</td>\n",
       "      <td>38816</td>\n",
       "      <td>1</td>\n",
       "      <td>0.8</td>\n",
       "      <td>1535935605</td>\n",
       "      <td>2</td>\n",
       "      <td>7.769821</td>\n",
       "      <td>...</td>\n",
       "      <td>1.000</td>\n",
       "      <td>1.1429</td>\n",
       "      <td>1.0</td>\n",
       "      <td>1.83088</td>\n",
       "      <td>1.58108</td>\n",
       "      <td>1.85828</td>\n",
       "      <td>0.67</td>\n",
       "      <td>0</td>\n",
       "      <td>7.841667</td>\n",
       "      <td>0.011894</td>\n",
       "    </tr>\n",
       "    <tr>\n",
       "      <th>3</th>\n",
       "      <td>relationships</td>\n",
       "      <td>7rorpp</td>\n",
       "      <td>[5, 10]</td>\n",
       "      <td>until i met my new boyfriend, he is amazing, h...</td>\n",
       "      <td>239</td>\n",
       "      <td>1</td>\n",
       "      <td>0.6</td>\n",
       "      <td>1516429555</td>\n",
       "      <td>0</td>\n",
       "      <td>2.667798</td>\n",
       "      <td>...</td>\n",
       "      <td>1.000</td>\n",
       "      <td>1.1250</td>\n",
       "      <td>1.0</td>\n",
       "      <td>1.75356</td>\n",
       "      <td>1.52114</td>\n",
       "      <td>1.98848</td>\n",
       "      <td>0.50</td>\n",
       "      <td>5</td>\n",
       "      <td>4.104027</td>\n",
       "      <td>0.141671</td>\n",
       "    </tr>\n",
       "    <tr>\n",
       "      <th>4</th>\n",
       "      <td>survivorsofabuse</td>\n",
       "      <td>9p2gbc</td>\n",
       "      <td>[0, 5]</td>\n",
       "      <td>October is Domestic Violence Awareness Month a...</td>\n",
       "      <td>1421</td>\n",
       "      <td>1</td>\n",
       "      <td>0.8</td>\n",
       "      <td>1539809005</td>\n",
       "      <td>24</td>\n",
       "      <td>7.554238</td>\n",
       "      <td>...</td>\n",
       "      <td>1.000</td>\n",
       "      <td>1.1250</td>\n",
       "      <td>1.0</td>\n",
       "      <td>1.77644</td>\n",
       "      <td>1.64872</td>\n",
       "      <td>1.81456</td>\n",
       "      <td>1.00</td>\n",
       "      <td>1</td>\n",
       "      <td>7.910952</td>\n",
       "      <td>-0.204167</td>\n",
       "    </tr>\n",
       "  </tbody>\n",
       "</table>\n",
       "<p>5 rows × 116 columns</p>\n",
       "</div>"
      ],
      "text/plain": [
       "          subreddit post_id sentence_range  \\\n",
       "0              ptsd  8601tu       (15, 20)   \n",
       "1        assistance  8lbrx9         (0, 5)   \n",
       "2              ptsd  9ch1zh       (15, 20)   \n",
       "3     relationships  7rorpp        [5, 10]   \n",
       "4  survivorsofabuse  9p2gbc         [0, 5]   \n",
       "\n",
       "                                                text     id  label  \\\n",
       "0  He said he had not felt that way before, sugge...  33181      1   \n",
       "1  Hey there r/assistance, Not sure if this is th...   2606      0   \n",
       "2  My mom then hit me with the newspaper and it s...  38816      1   \n",
       "3  until i met my new boyfriend, he is amazing, h...    239      1   \n",
       "4  October is Domestic Violence Awareness Month a...   1421      1   \n",
       "\n",
       "   confidence  social_timestamp  social_karma  syntax_ari  ...  \\\n",
       "0         0.8        1521614353             5    1.806818  ...   \n",
       "1         1.0        1527009817             4    9.429737  ...   \n",
       "2         0.8        1535935605             2    7.769821  ...   \n",
       "3         0.6        1516429555             0    2.667798  ...   \n",
       "4         0.8        1539809005            24    7.554238  ...   \n",
       "\n",
       "   lex_dal_min_pleasantness  lex_dal_min_activation  lex_dal_min_imagery  \\\n",
       "0                     1.000                  1.1250                  1.0   \n",
       "1                     1.125                  1.0000                  1.0   \n",
       "2                     1.000                  1.1429                  1.0   \n",
       "3                     1.000                  1.1250                  1.0   \n",
       "4                     1.000                  1.1250                  1.0   \n",
       "\n",
       "   lex_dal_avg_activation  lex_dal_avg_imagery  lex_dal_avg_pleasantness  \\\n",
       "0                 1.77000              1.52211                   1.89556   \n",
       "1                 1.69586              1.62045                   1.88919   \n",
       "2                 1.83088              1.58108                   1.85828   \n",
       "3                 1.75356              1.52114                   1.98848   \n",
       "4                 1.77644              1.64872                   1.81456   \n",
       "\n",
       "   social_upvote_ratio  social_num_comments  syntax_fk_grade  sentiment  \n",
       "0                 0.86                    1         3.253573  -0.002742  \n",
       "1                 0.65                    2         8.828316   0.292857  \n",
       "2                 0.67                    0         7.841667   0.011894  \n",
       "3                 0.50                    5         4.104027   0.141671  \n",
       "4                 1.00                    1         7.910952  -0.204167  \n",
       "\n",
       "[5 rows x 116 columns]"
      ]
     },
     "execution_count": 3,
     "metadata": {},
     "output_type": "execute_result"
    }
   ],
   "source": [
    "data = pd.read_csv(\"B:\\_GITHUB\\Machine-Learning-project-series\\stress detection\\dataset\\data.csv\")\n",
    "# print(data.head(2).to_markdown(index = False))\n",
    "data.head()"
   ]
  },
  {
   "cell_type": "code",
   "execution_count": 4,
   "metadata": {},
   "outputs": [
    {
     "data": {
      "text/plain": [
       "subreddit                   0\n",
       "post_id                     0\n",
       "sentence_range              0\n",
       "text                        0\n",
       "id                          0\n",
       "                           ..\n",
       "lex_dal_avg_pleasantness    0\n",
       "social_upvote_ratio         0\n",
       "social_num_comments         0\n",
       "syntax_fk_grade             0\n",
       "sentiment                   0\n",
       "Length: 116, dtype: int64"
      ]
     },
     "execution_count": 4,
     "metadata": {},
     "output_type": "execute_result"
    }
   ],
   "source": [
    "# checking for null values \n",
    "data.isnull().sum()"
   ]
  },
  {
   "cell_type": "code",
   "execution_count": 5,
   "metadata": {},
   "outputs": [
    {
     "data": {
      "text/html": [
       "<div>\n",
       "<style scoped>\n",
       "    .dataframe tbody tr th:only-of-type {\n",
       "        vertical-align: middle;\n",
       "    }\n",
       "\n",
       "    .dataframe tbody tr th {\n",
       "        vertical-align: top;\n",
       "    }\n",
       "\n",
       "    .dataframe thead th {\n",
       "        text-align: right;\n",
       "    }\n",
       "</style>\n",
       "<table border=\"1\" class=\"dataframe\">\n",
       "  <thead>\n",
       "    <tr style=\"text-align: right;\">\n",
       "      <th></th>\n",
       "      <th>id</th>\n",
       "      <th>label</th>\n",
       "      <th>confidence</th>\n",
       "      <th>social_timestamp</th>\n",
       "      <th>social_karma</th>\n",
       "      <th>syntax_ari</th>\n",
       "      <th>lex_liwc_WC</th>\n",
       "      <th>lex_liwc_Analytic</th>\n",
       "      <th>lex_liwc_Clout</th>\n",
       "      <th>lex_liwc_Authentic</th>\n",
       "      <th>...</th>\n",
       "      <th>lex_dal_min_pleasantness</th>\n",
       "      <th>lex_dal_min_activation</th>\n",
       "      <th>lex_dal_min_imagery</th>\n",
       "      <th>lex_dal_avg_activation</th>\n",
       "      <th>lex_dal_avg_imagery</th>\n",
       "      <th>lex_dal_avg_pleasantness</th>\n",
       "      <th>social_upvote_ratio</th>\n",
       "      <th>social_num_comments</th>\n",
       "      <th>syntax_fk_grade</th>\n",
       "      <th>sentiment</th>\n",
       "    </tr>\n",
       "  </thead>\n",
       "  <tbody>\n",
       "    <tr>\n",
       "      <th>count</th>\n",
       "      <td>2838.000000</td>\n",
       "      <td>2838.000000</td>\n",
       "      <td>2838.000000</td>\n",
       "      <td>2.838000e+03</td>\n",
       "      <td>2838.000000</td>\n",
       "      <td>2838.000000</td>\n",
       "      <td>2838.000000</td>\n",
       "      <td>2838.000000</td>\n",
       "      <td>2838.000000</td>\n",
       "      <td>2838.000000</td>\n",
       "      <td>...</td>\n",
       "      <td>2838.000000</td>\n",
       "      <td>2838.000000</td>\n",
       "      <td>2838.000000</td>\n",
       "      <td>2838.000000</td>\n",
       "      <td>2838.000000</td>\n",
       "      <td>2838.000000</td>\n",
       "      <td>2838.000000</td>\n",
       "      <td>2838.000000</td>\n",
       "      <td>2838.000000</td>\n",
       "      <td>2838.000000</td>\n",
       "    </tr>\n",
       "    <tr>\n",
       "      <th>mean</th>\n",
       "      <td>13751.999295</td>\n",
       "      <td>0.524313</td>\n",
       "      <td>0.808972</td>\n",
       "      <td>1.518107e+09</td>\n",
       "      <td>18.262156</td>\n",
       "      <td>4.684272</td>\n",
       "      <td>85.996124</td>\n",
       "      <td>35.240941</td>\n",
       "      <td>40.948231</td>\n",
       "      <td>67.044249</td>\n",
       "      <td>...</td>\n",
       "      <td>1.088001</td>\n",
       "      <td>1.120099</td>\n",
       "      <td>1.000211</td>\n",
       "      <td>1.722759</td>\n",
       "      <td>1.536400</td>\n",
       "      <td>1.879385</td>\n",
       "      <td>0.843517</td>\n",
       "      <td>9.948555</td>\n",
       "      <td>5.448836</td>\n",
       "      <td>0.040740</td>\n",
       "    </tr>\n",
       "    <tr>\n",
       "      <th>std</th>\n",
       "      <td>17340.161897</td>\n",
       "      <td>0.499497</td>\n",
       "      <td>0.177038</td>\n",
       "      <td>1.552209e+07</td>\n",
       "      <td>79.419166</td>\n",
       "      <td>3.316435</td>\n",
       "      <td>32.334887</td>\n",
       "      <td>26.486189</td>\n",
       "      <td>31.587117</td>\n",
       "      <td>32.880644</td>\n",
       "      <td>...</td>\n",
       "      <td>0.117159</td>\n",
       "      <td>0.085227</td>\n",
       "      <td>0.006500</td>\n",
       "      <td>0.047835</td>\n",
       "      <td>0.102971</td>\n",
       "      <td>0.058932</td>\n",
       "      <td>0.174794</td>\n",
       "      <td>21.798032</td>\n",
       "      <td>2.535829</td>\n",
       "      <td>0.195490</td>\n",
       "    </tr>\n",
       "    <tr>\n",
       "      <th>min</th>\n",
       "      <td>4.000000</td>\n",
       "      <td>0.000000</td>\n",
       "      <td>0.428571</td>\n",
       "      <td>1.483274e+09</td>\n",
       "      <td>0.000000</td>\n",
       "      <td>-6.620000</td>\n",
       "      <td>5.000000</td>\n",
       "      <td>1.000000</td>\n",
       "      <td>1.000000</td>\n",
       "      <td>1.000000</td>\n",
       "      <td>...</td>\n",
       "      <td>1.000000</td>\n",
       "      <td>1.000000</td>\n",
       "      <td>1.000000</td>\n",
       "      <td>1.485400</td>\n",
       "      <td>1.200000</td>\n",
       "      <td>1.561150</td>\n",
       "      <td>0.140000</td>\n",
       "      <td>0.000000</td>\n",
       "      <td>-1.918000</td>\n",
       "      <td>-1.000000</td>\n",
       "    </tr>\n",
       "    <tr>\n",
       "      <th>25%</th>\n",
       "      <td>926.250000</td>\n",
       "      <td>0.000000</td>\n",
       "      <td>0.600000</td>\n",
       "      <td>1.509698e+09</td>\n",
       "      <td>2.000000</td>\n",
       "      <td>2.464243</td>\n",
       "      <td>65.000000</td>\n",
       "      <td>12.410000</td>\n",
       "      <td>12.135000</td>\n",
       "      <td>41.070000</td>\n",
       "      <td>...</td>\n",
       "      <td>1.000000</td>\n",
       "      <td>1.000000</td>\n",
       "      <td>1.000000</td>\n",
       "      <td>1.691430</td>\n",
       "      <td>1.469745</td>\n",
       "      <td>1.841782</td>\n",
       "      <td>0.750000</td>\n",
       "      <td>2.000000</td>\n",
       "      <td>3.729973</td>\n",
       "      <td>-0.072222</td>\n",
       "    </tr>\n",
       "    <tr>\n",
       "      <th>50%</th>\n",
       "      <td>1891.500000</td>\n",
       "      <td>1.000000</td>\n",
       "      <td>0.800000</td>\n",
       "      <td>1.517066e+09</td>\n",
       "      <td>5.000000</td>\n",
       "      <td>4.321886</td>\n",
       "      <td>81.000000</td>\n",
       "      <td>29.420000</td>\n",
       "      <td>33.520000</td>\n",
       "      <td>80.710000</td>\n",
       "      <td>...</td>\n",
       "      <td>1.000000</td>\n",
       "      <td>1.142900</td>\n",
       "      <td>1.000000</td>\n",
       "      <td>1.721430</td>\n",
       "      <td>1.530295</td>\n",
       "      <td>1.878250</td>\n",
       "      <td>0.890000</td>\n",
       "      <td>5.000000</td>\n",
       "      <td>5.210000</td>\n",
       "      <td>0.044821</td>\n",
       "    </tr>\n",
       "    <tr>\n",
       "      <th>75%</th>\n",
       "      <td>25473.750000</td>\n",
       "      <td>1.000000</td>\n",
       "      <td>1.000000</td>\n",
       "      <td>1.530898e+09</td>\n",
       "      <td>10.000000</td>\n",
       "      <td>6.505657</td>\n",
       "      <td>101.000000</td>\n",
       "      <td>55.057500</td>\n",
       "      <td>69.320000</td>\n",
       "      <td>96.180000</td>\n",
       "      <td>...</td>\n",
       "      <td>1.142900</td>\n",
       "      <td>1.142900</td>\n",
       "      <td>1.000000</td>\n",
       "      <td>1.751760</td>\n",
       "      <td>1.596030</td>\n",
       "      <td>1.916243</td>\n",
       "      <td>1.000000</td>\n",
       "      <td>10.000000</td>\n",
       "      <td>6.855217</td>\n",
       "      <td>0.166667</td>\n",
       "    </tr>\n",
       "    <tr>\n",
       "      <th>max</th>\n",
       "      <td>55757.000000</td>\n",
       "      <td>1.000000</td>\n",
       "      <td>1.000000</td>\n",
       "      <td>1.542592e+09</td>\n",
       "      <td>1435.000000</td>\n",
       "      <td>24.074231</td>\n",
       "      <td>310.000000</td>\n",
       "      <td>99.000000</td>\n",
       "      <td>99.000000</td>\n",
       "      <td>99.000000</td>\n",
       "      <td>...</td>\n",
       "      <td>1.900000</td>\n",
       "      <td>1.500000</td>\n",
       "      <td>1.200000</td>\n",
       "      <td>2.007400</td>\n",
       "      <td>2.066670</td>\n",
       "      <td>2.158490</td>\n",
       "      <td>1.000000</td>\n",
       "      <td>416.000000</td>\n",
       "      <td>21.198919</td>\n",
       "      <td>1.000000</td>\n",
       "    </tr>\n",
       "  </tbody>\n",
       "</table>\n",
       "<p>8 rows × 112 columns</p>\n",
       "</div>"
      ],
      "text/plain": [
       "                 id        label   confidence  social_timestamp  social_karma  \\\n",
       "count   2838.000000  2838.000000  2838.000000      2.838000e+03   2838.000000   \n",
       "mean   13751.999295     0.524313     0.808972      1.518107e+09     18.262156   \n",
       "std    17340.161897     0.499497     0.177038      1.552209e+07     79.419166   \n",
       "min        4.000000     0.000000     0.428571      1.483274e+09      0.000000   \n",
       "25%      926.250000     0.000000     0.600000      1.509698e+09      2.000000   \n",
       "50%     1891.500000     1.000000     0.800000      1.517066e+09      5.000000   \n",
       "75%    25473.750000     1.000000     1.000000      1.530898e+09     10.000000   \n",
       "max    55757.000000     1.000000     1.000000      1.542592e+09   1435.000000   \n",
       "\n",
       "        syntax_ari  lex_liwc_WC  lex_liwc_Analytic  lex_liwc_Clout  \\\n",
       "count  2838.000000  2838.000000        2838.000000     2838.000000   \n",
       "mean      4.684272    85.996124          35.240941       40.948231   \n",
       "std       3.316435    32.334887          26.486189       31.587117   \n",
       "min      -6.620000     5.000000           1.000000        1.000000   \n",
       "25%       2.464243    65.000000          12.410000       12.135000   \n",
       "50%       4.321886    81.000000          29.420000       33.520000   \n",
       "75%       6.505657   101.000000          55.057500       69.320000   \n",
       "max      24.074231   310.000000          99.000000       99.000000   \n",
       "\n",
       "       lex_liwc_Authentic  ...  lex_dal_min_pleasantness  \\\n",
       "count         2838.000000  ...               2838.000000   \n",
       "mean            67.044249  ...                  1.088001   \n",
       "std             32.880644  ...                  0.117159   \n",
       "min              1.000000  ...                  1.000000   \n",
       "25%             41.070000  ...                  1.000000   \n",
       "50%             80.710000  ...                  1.000000   \n",
       "75%             96.180000  ...                  1.142900   \n",
       "max             99.000000  ...                  1.900000   \n",
       "\n",
       "       lex_dal_min_activation  lex_dal_min_imagery  lex_dal_avg_activation  \\\n",
       "count             2838.000000          2838.000000             2838.000000   \n",
       "mean                 1.120099             1.000211                1.722759   \n",
       "std                  0.085227             0.006500                0.047835   \n",
       "min                  1.000000             1.000000                1.485400   \n",
       "25%                  1.000000             1.000000                1.691430   \n",
       "50%                  1.142900             1.000000                1.721430   \n",
       "75%                  1.142900             1.000000                1.751760   \n",
       "max                  1.500000             1.200000                2.007400   \n",
       "\n",
       "       lex_dal_avg_imagery  lex_dal_avg_pleasantness  social_upvote_ratio  \\\n",
       "count          2838.000000               2838.000000          2838.000000   \n",
       "mean              1.536400                  1.879385             0.843517   \n",
       "std               0.102971                  0.058932             0.174794   \n",
       "min               1.200000                  1.561150             0.140000   \n",
       "25%               1.469745                  1.841782             0.750000   \n",
       "50%               1.530295                  1.878250             0.890000   \n",
       "75%               1.596030                  1.916243             1.000000   \n",
       "max               2.066670                  2.158490             1.000000   \n",
       "\n",
       "       social_num_comments  syntax_fk_grade    sentiment  \n",
       "count          2838.000000      2838.000000  2838.000000  \n",
       "mean              9.948555         5.448836     0.040740  \n",
       "std              21.798032         2.535829     0.195490  \n",
       "min               0.000000        -1.918000    -1.000000  \n",
       "25%               2.000000         3.729973    -0.072222  \n",
       "50%               5.000000         5.210000     0.044821  \n",
       "75%              10.000000         6.855217     0.166667  \n",
       "max             416.000000        21.198919     1.000000  \n",
       "\n",
       "[8 rows x 112 columns]"
      ]
     },
     "execution_count": 5,
     "metadata": {},
     "output_type": "execute_result"
    }
   ],
   "source": [
    "data.describe()"
   ]
  },
  {
   "cell_type": "code",
   "execution_count": 6,
   "metadata": {},
   "outputs": [
    {
     "data": {
      "text/html": [
       "<div>\n",
       "<style scoped>\n",
       "    .dataframe tbody tr th:only-of-type {\n",
       "        vertical-align: middle;\n",
       "    }\n",
       "\n",
       "    .dataframe tbody tr th {\n",
       "        vertical-align: top;\n",
       "    }\n",
       "\n",
       "    .dataframe thead th {\n",
       "        text-align: right;\n",
       "    }\n",
       "</style>\n",
       "<table border=\"1\" class=\"dataframe\">\n",
       "  <thead>\n",
       "    <tr style=\"text-align: right;\">\n",
       "      <th></th>\n",
       "      <th>id</th>\n",
       "      <th>label</th>\n",
       "      <th>confidence</th>\n",
       "      <th>social_timestamp</th>\n",
       "      <th>social_karma</th>\n",
       "      <th>syntax_ari</th>\n",
       "      <th>lex_liwc_WC</th>\n",
       "      <th>lex_liwc_Analytic</th>\n",
       "      <th>lex_liwc_Clout</th>\n",
       "      <th>lex_liwc_Authentic</th>\n",
       "      <th>...</th>\n",
       "      <th>lex_dal_min_pleasantness</th>\n",
       "      <th>lex_dal_min_activation</th>\n",
       "      <th>lex_dal_min_imagery</th>\n",
       "      <th>lex_dal_avg_activation</th>\n",
       "      <th>lex_dal_avg_imagery</th>\n",
       "      <th>lex_dal_avg_pleasantness</th>\n",
       "      <th>social_upvote_ratio</th>\n",
       "      <th>social_num_comments</th>\n",
       "      <th>syntax_fk_grade</th>\n",
       "      <th>sentiment</th>\n",
       "    </tr>\n",
       "  </thead>\n",
       "  <tbody>\n",
       "    <tr>\n",
       "      <th>id</th>\n",
       "      <td>1.000000</td>\n",
       "      <td>-0.057570</td>\n",
       "      <td>0.198152</td>\n",
       "      <td>-0.004089</td>\n",
       "      <td>0.001155</td>\n",
       "      <td>0.103680</td>\n",
       "      <td>0.057690</td>\n",
       "      <td>0.013110</td>\n",
       "      <td>0.055287</td>\n",
       "      <td>-0.043653</td>\n",
       "      <td>...</td>\n",
       "      <td>0.027462</td>\n",
       "      <td>-0.042197</td>\n",
       "      <td>-0.023827</td>\n",
       "      <td>-0.044492</td>\n",
       "      <td>-0.058451</td>\n",
       "      <td>0.018026</td>\n",
       "      <td>-0.031343</td>\n",
       "      <td>-0.007265</td>\n",
       "      <td>0.100821</td>\n",
       "      <td>0.034676</td>\n",
       "    </tr>\n",
       "    <tr>\n",
       "      <th>label</th>\n",
       "      <td>-0.057570</td>\n",
       "      <td>1.000000</td>\n",
       "      <td>0.023831</td>\n",
       "      <td>-0.006504</td>\n",
       "      <td>-0.053421</td>\n",
       "      <td>-0.092786</td>\n",
       "      <td>0.100473</td>\n",
       "      <td>-0.247933</td>\n",
       "      <td>-0.403804</td>\n",
       "      <td>0.275282</td>\n",
       "      <td>...</td>\n",
       "      <td>-0.297439</td>\n",
       "      <td>-0.032659</td>\n",
       "      <td>-0.012440</td>\n",
       "      <td>0.144963</td>\n",
       "      <td>-0.049756</td>\n",
       "      <td>-0.165470</td>\n",
       "      <td>0.097125</td>\n",
       "      <td>-0.038507</td>\n",
       "      <td>-0.058567</td>\n",
       "      <td>-0.305157</td>\n",
       "    </tr>\n",
       "    <tr>\n",
       "      <th>confidence</th>\n",
       "      <td>0.198152</td>\n",
       "      <td>0.023831</td>\n",
       "      <td>1.000000</td>\n",
       "      <td>0.029101</td>\n",
       "      <td>-0.035109</td>\n",
       "      <td>0.034465</td>\n",
       "      <td>-0.005430</td>\n",
       "      <td>0.040150</td>\n",
       "      <td>-0.019701</td>\n",
       "      <td>0.030784</td>\n",
       "      <td>...</td>\n",
       "      <td>0.054247</td>\n",
       "      <td>-0.000609</td>\n",
       "      <td>-0.043655</td>\n",
       "      <td>0.019157</td>\n",
       "      <td>-0.064465</td>\n",
       "      <td>0.066168</td>\n",
       "      <td>-0.006815</td>\n",
       "      <td>-0.056471</td>\n",
       "      <td>0.040245</td>\n",
       "      <td>0.018656</td>\n",
       "    </tr>\n",
       "    <tr>\n",
       "      <th>social_timestamp</th>\n",
       "      <td>-0.004089</td>\n",
       "      <td>-0.006504</td>\n",
       "      <td>0.029101</td>\n",
       "      <td>1.000000</td>\n",
       "      <td>-0.015673</td>\n",
       "      <td>0.001516</td>\n",
       "      <td>0.013800</td>\n",
       "      <td>0.001789</td>\n",
       "      <td>-0.013092</td>\n",
       "      <td>0.023516</td>\n",
       "      <td>...</td>\n",
       "      <td>-0.001197</td>\n",
       "      <td>-0.002790</td>\n",
       "      <td>-0.024561</td>\n",
       "      <td>-0.006740</td>\n",
       "      <td>0.007107</td>\n",
       "      <td>0.010445</td>\n",
       "      <td>0.009877</td>\n",
       "      <td>-0.024676</td>\n",
       "      <td>0.002347</td>\n",
       "      <td>0.027996</td>\n",
       "    </tr>\n",
       "    <tr>\n",
       "      <th>social_karma</th>\n",
       "      <td>0.001155</td>\n",
       "      <td>-0.053421</td>\n",
       "      <td>-0.035109</td>\n",
       "      <td>-0.015673</td>\n",
       "      <td>1.000000</td>\n",
       "      <td>-0.014104</td>\n",
       "      <td>0.008587</td>\n",
       "      <td>-0.032604</td>\n",
       "      <td>0.049560</td>\n",
       "      <td>-0.073504</td>\n",
       "      <td>...</td>\n",
       "      <td>-0.031136</td>\n",
       "      <td>-0.028579</td>\n",
       "      <td>-0.003248</td>\n",
       "      <td>-0.006415</td>\n",
       "      <td>-0.003452</td>\n",
       "      <td>0.007040</td>\n",
       "      <td>0.099256</td>\n",
       "      <td>0.794517</td>\n",
       "      <td>-0.020001</td>\n",
       "      <td>0.004918</td>\n",
       "    </tr>\n",
       "    <tr>\n",
       "      <th>...</th>\n",
       "      <td>...</td>\n",
       "      <td>...</td>\n",
       "      <td>...</td>\n",
       "      <td>...</td>\n",
       "      <td>...</td>\n",
       "      <td>...</td>\n",
       "      <td>...</td>\n",
       "      <td>...</td>\n",
       "      <td>...</td>\n",
       "      <td>...</td>\n",
       "      <td>...</td>\n",
       "      <td>...</td>\n",
       "      <td>...</td>\n",
       "      <td>...</td>\n",
       "      <td>...</td>\n",
       "      <td>...</td>\n",
       "      <td>...</td>\n",
       "      <td>...</td>\n",
       "      <td>...</td>\n",
       "      <td>...</td>\n",
       "      <td>...</td>\n",
       "    </tr>\n",
       "    <tr>\n",
       "      <th>lex_dal_avg_pleasantness</th>\n",
       "      <td>0.018026</td>\n",
       "      <td>-0.165470</td>\n",
       "      <td>0.066168</td>\n",
       "      <td>0.010445</td>\n",
       "      <td>0.007040</td>\n",
       "      <td>-0.105369</td>\n",
       "      <td>-0.064109</td>\n",
       "      <td>-0.070831</td>\n",
       "      <td>0.085443</td>\n",
       "      <td>-0.016854</td>\n",
       "      <td>...</td>\n",
       "      <td>0.374458</td>\n",
       "      <td>0.074514</td>\n",
       "      <td>0.016777</td>\n",
       "      <td>0.108321</td>\n",
       "      <td>-0.026838</td>\n",
       "      <td>1.000000</td>\n",
       "      <td>-0.080428</td>\n",
       "      <td>0.012151</td>\n",
       "      <td>-0.078536</td>\n",
       "      <td>0.320488</td>\n",
       "    </tr>\n",
       "    <tr>\n",
       "      <th>social_upvote_ratio</th>\n",
       "      <td>-0.031343</td>\n",
       "      <td>0.097125</td>\n",
       "      <td>-0.006815</td>\n",
       "      <td>0.009877</td>\n",
       "      <td>0.099256</td>\n",
       "      <td>-0.006797</td>\n",
       "      <td>-0.017517</td>\n",
       "      <td>-0.060588</td>\n",
       "      <td>-0.100387</td>\n",
       "      <td>0.086029</td>\n",
       "      <td>...</td>\n",
       "      <td>-0.103184</td>\n",
       "      <td>0.008844</td>\n",
       "      <td>0.004309</td>\n",
       "      <td>0.051622</td>\n",
       "      <td>-0.016455</td>\n",
       "      <td>-0.080428</td>\n",
       "      <td>1.000000</td>\n",
       "      <td>0.011538</td>\n",
       "      <td>-0.014422</td>\n",
       "      <td>-0.073087</td>\n",
       "    </tr>\n",
       "    <tr>\n",
       "      <th>social_num_comments</th>\n",
       "      <td>-0.007265</td>\n",
       "      <td>-0.038507</td>\n",
       "      <td>-0.056471</td>\n",
       "      <td>-0.024676</td>\n",
       "      <td>0.794517</td>\n",
       "      <td>-0.042912</td>\n",
       "      <td>0.007982</td>\n",
       "      <td>-0.045950</td>\n",
       "      <td>0.055352</td>\n",
       "      <td>-0.083499</td>\n",
       "      <td>...</td>\n",
       "      <td>-0.017950</td>\n",
       "      <td>-0.048020</td>\n",
       "      <td>-0.008879</td>\n",
       "      <td>-0.033903</td>\n",
       "      <td>-0.002724</td>\n",
       "      <td>0.012151</td>\n",
       "      <td>0.011538</td>\n",
       "      <td>1.000000</td>\n",
       "      <td>-0.045006</td>\n",
       "      <td>0.001583</td>\n",
       "    </tr>\n",
       "    <tr>\n",
       "      <th>syntax_fk_grade</th>\n",
       "      <td>0.100821</td>\n",
       "      <td>-0.058567</td>\n",
       "      <td>0.040245</td>\n",
       "      <td>0.002347</td>\n",
       "      <td>-0.020001</td>\n",
       "      <td>0.967380</td>\n",
       "      <td>0.564947</td>\n",
       "      <td>0.270828</td>\n",
       "      <td>0.120024</td>\n",
       "      <td>-0.080276</td>\n",
       "      <td>...</td>\n",
       "      <td>-0.132731</td>\n",
       "      <td>-0.176478</td>\n",
       "      <td>-0.005930</td>\n",
       "      <td>0.000508</td>\n",
       "      <td>0.012685</td>\n",
       "      <td>-0.078536</td>\n",
       "      <td>-0.014422</td>\n",
       "      <td>-0.045006</td>\n",
       "      <td>1.000000</td>\n",
       "      <td>0.070168</td>\n",
       "    </tr>\n",
       "    <tr>\n",
       "      <th>sentiment</th>\n",
       "      <td>0.034676</td>\n",
       "      <td>-0.305157</td>\n",
       "      <td>0.018656</td>\n",
       "      <td>0.027996</td>\n",
       "      <td>0.004918</td>\n",
       "      <td>0.078454</td>\n",
       "      <td>0.005728</td>\n",
       "      <td>0.119168</td>\n",
       "      <td>0.172210</td>\n",
       "      <td>-0.126075</td>\n",
       "      <td>...</td>\n",
       "      <td>0.255831</td>\n",
       "      <td>0.026460</td>\n",
       "      <td>-0.001107</td>\n",
       "      <td>-0.052617</td>\n",
       "      <td>-0.084024</td>\n",
       "      <td>0.320488</td>\n",
       "      <td>-0.073087</td>\n",
       "      <td>0.001583</td>\n",
       "      <td>0.070168</td>\n",
       "      <td>1.000000</td>\n",
       "    </tr>\n",
       "  </tbody>\n",
       "</table>\n",
       "<p>112 rows × 112 columns</p>\n",
       "</div>"
      ],
      "text/plain": [
       "                                id     label  confidence  social_timestamp  \\\n",
       "id                        1.000000 -0.057570    0.198152         -0.004089   \n",
       "label                    -0.057570  1.000000    0.023831         -0.006504   \n",
       "confidence                0.198152  0.023831    1.000000          0.029101   \n",
       "social_timestamp         -0.004089 -0.006504    0.029101          1.000000   \n",
       "social_karma              0.001155 -0.053421   -0.035109         -0.015673   \n",
       "...                            ...       ...         ...               ...   \n",
       "lex_dal_avg_pleasantness  0.018026 -0.165470    0.066168          0.010445   \n",
       "social_upvote_ratio      -0.031343  0.097125   -0.006815          0.009877   \n",
       "social_num_comments      -0.007265 -0.038507   -0.056471         -0.024676   \n",
       "syntax_fk_grade           0.100821 -0.058567    0.040245          0.002347   \n",
       "sentiment                 0.034676 -0.305157    0.018656          0.027996   \n",
       "\n",
       "                          social_karma  syntax_ari  lex_liwc_WC  \\\n",
       "id                            0.001155    0.103680     0.057690   \n",
       "label                        -0.053421   -0.092786     0.100473   \n",
       "confidence                   -0.035109    0.034465    -0.005430   \n",
       "social_timestamp             -0.015673    0.001516     0.013800   \n",
       "social_karma                  1.000000   -0.014104     0.008587   \n",
       "...                                ...         ...          ...   \n",
       "lex_dal_avg_pleasantness      0.007040   -0.105369    -0.064109   \n",
       "social_upvote_ratio           0.099256   -0.006797    -0.017517   \n",
       "social_num_comments           0.794517   -0.042912     0.007982   \n",
       "syntax_fk_grade              -0.020001    0.967380     0.564947   \n",
       "sentiment                     0.004918    0.078454     0.005728   \n",
       "\n",
       "                          lex_liwc_Analytic  lex_liwc_Clout  \\\n",
       "id                                 0.013110        0.055287   \n",
       "label                             -0.247933       -0.403804   \n",
       "confidence                         0.040150       -0.019701   \n",
       "social_timestamp                   0.001789       -0.013092   \n",
       "social_karma                      -0.032604        0.049560   \n",
       "...                                     ...             ...   \n",
       "lex_dal_avg_pleasantness          -0.070831        0.085443   \n",
       "social_upvote_ratio               -0.060588       -0.100387   \n",
       "social_num_comments               -0.045950        0.055352   \n",
       "syntax_fk_grade                    0.270828        0.120024   \n",
       "sentiment                          0.119168        0.172210   \n",
       "\n",
       "                          lex_liwc_Authentic  ...  lex_dal_min_pleasantness  \\\n",
       "id                                 -0.043653  ...                  0.027462   \n",
       "label                               0.275282  ...                 -0.297439   \n",
       "confidence                          0.030784  ...                  0.054247   \n",
       "social_timestamp                    0.023516  ...                 -0.001197   \n",
       "social_karma                       -0.073504  ...                 -0.031136   \n",
       "...                                      ...  ...                       ...   \n",
       "lex_dal_avg_pleasantness           -0.016854  ...                  0.374458   \n",
       "social_upvote_ratio                 0.086029  ...                 -0.103184   \n",
       "social_num_comments                -0.083499  ...                 -0.017950   \n",
       "syntax_fk_grade                    -0.080276  ...                 -0.132731   \n",
       "sentiment                          -0.126075  ...                  0.255831   \n",
       "\n",
       "                          lex_dal_min_activation  lex_dal_min_imagery  \\\n",
       "id                                     -0.042197            -0.023827   \n",
       "label                                  -0.032659            -0.012440   \n",
       "confidence                             -0.000609            -0.043655   \n",
       "social_timestamp                       -0.002790            -0.024561   \n",
       "social_karma                           -0.028579            -0.003248   \n",
       "...                                          ...                  ...   \n",
       "lex_dal_avg_pleasantness                0.074514             0.016777   \n",
       "social_upvote_ratio                     0.008844             0.004309   \n",
       "social_num_comments                    -0.048020            -0.008879   \n",
       "syntax_fk_grade                        -0.176478            -0.005930   \n",
       "sentiment                               0.026460            -0.001107   \n",
       "\n",
       "                          lex_dal_avg_activation  lex_dal_avg_imagery  \\\n",
       "id                                     -0.044492            -0.058451   \n",
       "label                                   0.144963            -0.049756   \n",
       "confidence                              0.019157            -0.064465   \n",
       "social_timestamp                       -0.006740             0.007107   \n",
       "social_karma                           -0.006415            -0.003452   \n",
       "...                                          ...                  ...   \n",
       "lex_dal_avg_pleasantness                0.108321            -0.026838   \n",
       "social_upvote_ratio                     0.051622            -0.016455   \n",
       "social_num_comments                    -0.033903            -0.002724   \n",
       "syntax_fk_grade                         0.000508             0.012685   \n",
       "sentiment                              -0.052617            -0.084024   \n",
       "\n",
       "                          lex_dal_avg_pleasantness  social_upvote_ratio  \\\n",
       "id                                        0.018026            -0.031343   \n",
       "label                                    -0.165470             0.097125   \n",
       "confidence                                0.066168            -0.006815   \n",
       "social_timestamp                          0.010445             0.009877   \n",
       "social_karma                              0.007040             0.099256   \n",
       "...                                            ...                  ...   \n",
       "lex_dal_avg_pleasantness                  1.000000            -0.080428   \n",
       "social_upvote_ratio                      -0.080428             1.000000   \n",
       "social_num_comments                       0.012151             0.011538   \n",
       "syntax_fk_grade                          -0.078536            -0.014422   \n",
       "sentiment                                 0.320488            -0.073087   \n",
       "\n",
       "                          social_num_comments  syntax_fk_grade  sentiment  \n",
       "id                                  -0.007265         0.100821   0.034676  \n",
       "label                               -0.038507        -0.058567  -0.305157  \n",
       "confidence                          -0.056471         0.040245   0.018656  \n",
       "social_timestamp                    -0.024676         0.002347   0.027996  \n",
       "social_karma                         0.794517        -0.020001   0.004918  \n",
       "...                                       ...              ...        ...  \n",
       "lex_dal_avg_pleasantness             0.012151        -0.078536   0.320488  \n",
       "social_upvote_ratio                  0.011538        -0.014422  -0.073087  \n",
       "social_num_comments                  1.000000        -0.045006   0.001583  \n",
       "syntax_fk_grade                     -0.045006         1.000000   0.070168  \n",
       "sentiment                            0.001583         0.070168   1.000000  \n",
       "\n",
       "[112 rows x 112 columns]"
      ]
     },
     "execution_count": 6,
     "metadata": {},
     "output_type": "execute_result"
    }
   ],
   "source": [
    "data.corr()"
   ]
  },
  {
   "cell_type": "markdown",
   "metadata": {},
   "source": [
    "#### 2. **Data visualization**\n",
    "In this step we will vizualize the data distribution of key features."
   ]
  },
  {
   "cell_type": "code",
   "execution_count": 7,
   "metadata": {},
   "outputs": [
    {
     "data": {
      "application/vnd.plotly.v1+json": {
       "config": {
        "plotlyServerURL": "https://plot.ly"
       },
       "data": [
        {
         "domain": {
          "x": [
           0,
           1
          ],
          "y": [
           0,
           1
          ]
         },
         "hole": 0.5,
         "hovertemplate": "label=%{label}<br>value=%{value}<extra></extra>",
         "labels": [
          "ptsd",
          "relationships",
          "anxiety",
          "domesticviolence",
          "assistance",
          "survivorsofabuse",
          "homeless",
          "almosthomeless",
          "stress",
          "food_pantry"
         ],
         "legendgroup": "",
         "name": "",
         "showlegend": true,
         "type": "pie",
         "values": [
          584,
          552,
          503,
          316,
          289,
          245,
          168,
          80,
          64,
          37
         ]
        }
       ],
       "layout": {
        "height": 400,
        "legend": {
         "tracegroupgap": 0
        },
        "margin": {
         "t": 60
        },
        "template": {
         "data": {
          "bar": [
           {
            "error_x": {
             "color": "#2a3f5f"
            },
            "error_y": {
             "color": "#2a3f5f"
            },
            "marker": {
             "line": {
              "color": "#E5ECF6",
              "width": 0.5
             },
             "pattern": {
              "fillmode": "overlay",
              "size": 10,
              "solidity": 0.2
             }
            },
            "type": "bar"
           }
          ],
          "barpolar": [
           {
            "marker": {
             "line": {
              "color": "#E5ECF6",
              "width": 0.5
             },
             "pattern": {
              "fillmode": "overlay",
              "size": 10,
              "solidity": 0.2
             }
            },
            "type": "barpolar"
           }
          ],
          "carpet": [
           {
            "aaxis": {
             "endlinecolor": "#2a3f5f",
             "gridcolor": "white",
             "linecolor": "white",
             "minorgridcolor": "white",
             "startlinecolor": "#2a3f5f"
            },
            "baxis": {
             "endlinecolor": "#2a3f5f",
             "gridcolor": "white",
             "linecolor": "white",
             "minorgridcolor": "white",
             "startlinecolor": "#2a3f5f"
            },
            "type": "carpet"
           }
          ],
          "choropleth": [
           {
            "colorbar": {
             "outlinewidth": 0,
             "ticks": ""
            },
            "type": "choropleth"
           }
          ],
          "contour": [
           {
            "colorbar": {
             "outlinewidth": 0,
             "ticks": ""
            },
            "colorscale": [
             [
              0,
              "#0d0887"
             ],
             [
              0.1111111111111111,
              "#46039f"
             ],
             [
              0.2222222222222222,
              "#7201a8"
             ],
             [
              0.3333333333333333,
              "#9c179e"
             ],
             [
              0.4444444444444444,
              "#bd3786"
             ],
             [
              0.5555555555555556,
              "#d8576b"
             ],
             [
              0.6666666666666666,
              "#ed7953"
             ],
             [
              0.7777777777777778,
              "#fb9f3a"
             ],
             [
              0.8888888888888888,
              "#fdca26"
             ],
             [
              1,
              "#f0f921"
             ]
            ],
            "type": "contour"
           }
          ],
          "contourcarpet": [
           {
            "colorbar": {
             "outlinewidth": 0,
             "ticks": ""
            },
            "type": "contourcarpet"
           }
          ],
          "heatmap": [
           {
            "colorbar": {
             "outlinewidth": 0,
             "ticks": ""
            },
            "colorscale": [
             [
              0,
              "#0d0887"
             ],
             [
              0.1111111111111111,
              "#46039f"
             ],
             [
              0.2222222222222222,
              "#7201a8"
             ],
             [
              0.3333333333333333,
              "#9c179e"
             ],
             [
              0.4444444444444444,
              "#bd3786"
             ],
             [
              0.5555555555555556,
              "#d8576b"
             ],
             [
              0.6666666666666666,
              "#ed7953"
             ],
             [
              0.7777777777777778,
              "#fb9f3a"
             ],
             [
              0.8888888888888888,
              "#fdca26"
             ],
             [
              1,
              "#f0f921"
             ]
            ],
            "type": "heatmap"
           }
          ],
          "heatmapgl": [
           {
            "colorbar": {
             "outlinewidth": 0,
             "ticks": ""
            },
            "colorscale": [
             [
              0,
              "#0d0887"
             ],
             [
              0.1111111111111111,
              "#46039f"
             ],
             [
              0.2222222222222222,
              "#7201a8"
             ],
             [
              0.3333333333333333,
              "#9c179e"
             ],
             [
              0.4444444444444444,
              "#bd3786"
             ],
             [
              0.5555555555555556,
              "#d8576b"
             ],
             [
              0.6666666666666666,
              "#ed7953"
             ],
             [
              0.7777777777777778,
              "#fb9f3a"
             ],
             [
              0.8888888888888888,
              "#fdca26"
             ],
             [
              1,
              "#f0f921"
             ]
            ],
            "type": "heatmapgl"
           }
          ],
          "histogram": [
           {
            "marker": {
             "pattern": {
              "fillmode": "overlay",
              "size": 10,
              "solidity": 0.2
             }
            },
            "type": "histogram"
           }
          ],
          "histogram2d": [
           {
            "colorbar": {
             "outlinewidth": 0,
             "ticks": ""
            },
            "colorscale": [
             [
              0,
              "#0d0887"
             ],
             [
              0.1111111111111111,
              "#46039f"
             ],
             [
              0.2222222222222222,
              "#7201a8"
             ],
             [
              0.3333333333333333,
              "#9c179e"
             ],
             [
              0.4444444444444444,
              "#bd3786"
             ],
             [
              0.5555555555555556,
              "#d8576b"
             ],
             [
              0.6666666666666666,
              "#ed7953"
             ],
             [
              0.7777777777777778,
              "#fb9f3a"
             ],
             [
              0.8888888888888888,
              "#fdca26"
             ],
             [
              1,
              "#f0f921"
             ]
            ],
            "type": "histogram2d"
           }
          ],
          "histogram2dcontour": [
           {
            "colorbar": {
             "outlinewidth": 0,
             "ticks": ""
            },
            "colorscale": [
             [
              0,
              "#0d0887"
             ],
             [
              0.1111111111111111,
              "#46039f"
             ],
             [
              0.2222222222222222,
              "#7201a8"
             ],
             [
              0.3333333333333333,
              "#9c179e"
             ],
             [
              0.4444444444444444,
              "#bd3786"
             ],
             [
              0.5555555555555556,
              "#d8576b"
             ],
             [
              0.6666666666666666,
              "#ed7953"
             ],
             [
              0.7777777777777778,
              "#fb9f3a"
             ],
             [
              0.8888888888888888,
              "#fdca26"
             ],
             [
              1,
              "#f0f921"
             ]
            ],
            "type": "histogram2dcontour"
           }
          ],
          "mesh3d": [
           {
            "colorbar": {
             "outlinewidth": 0,
             "ticks": ""
            },
            "type": "mesh3d"
           }
          ],
          "parcoords": [
           {
            "line": {
             "colorbar": {
              "outlinewidth": 0,
              "ticks": ""
             }
            },
            "type": "parcoords"
           }
          ],
          "pie": [
           {
            "automargin": true,
            "type": "pie"
           }
          ],
          "scatter": [
           {
            "fillpattern": {
             "fillmode": "overlay",
             "size": 10,
             "solidity": 0.2
            },
            "type": "scatter"
           }
          ],
          "scatter3d": [
           {
            "line": {
             "colorbar": {
              "outlinewidth": 0,
              "ticks": ""
             }
            },
            "marker": {
             "colorbar": {
              "outlinewidth": 0,
              "ticks": ""
             }
            },
            "type": "scatter3d"
           }
          ],
          "scattercarpet": [
           {
            "marker": {
             "colorbar": {
              "outlinewidth": 0,
              "ticks": ""
             }
            },
            "type": "scattercarpet"
           }
          ],
          "scattergeo": [
           {
            "marker": {
             "colorbar": {
              "outlinewidth": 0,
              "ticks": ""
             }
            },
            "type": "scattergeo"
           }
          ],
          "scattergl": [
           {
            "marker": {
             "colorbar": {
              "outlinewidth": 0,
              "ticks": ""
             }
            },
            "type": "scattergl"
           }
          ],
          "scattermapbox": [
           {
            "marker": {
             "colorbar": {
              "outlinewidth": 0,
              "ticks": ""
             }
            },
            "type": "scattermapbox"
           }
          ],
          "scatterpolar": [
           {
            "marker": {
             "colorbar": {
              "outlinewidth": 0,
              "ticks": ""
             }
            },
            "type": "scatterpolar"
           }
          ],
          "scatterpolargl": [
           {
            "marker": {
             "colorbar": {
              "outlinewidth": 0,
              "ticks": ""
             }
            },
            "type": "scatterpolargl"
           }
          ],
          "scatterternary": [
           {
            "marker": {
             "colorbar": {
              "outlinewidth": 0,
              "ticks": ""
             }
            },
            "type": "scatterternary"
           }
          ],
          "surface": [
           {
            "colorbar": {
             "outlinewidth": 0,
             "ticks": ""
            },
            "colorscale": [
             [
              0,
              "#0d0887"
             ],
             [
              0.1111111111111111,
              "#46039f"
             ],
             [
              0.2222222222222222,
              "#7201a8"
             ],
             [
              0.3333333333333333,
              "#9c179e"
             ],
             [
              0.4444444444444444,
              "#bd3786"
             ],
             [
              0.5555555555555556,
              "#d8576b"
             ],
             [
              0.6666666666666666,
              "#ed7953"
             ],
             [
              0.7777777777777778,
              "#fb9f3a"
             ],
             [
              0.8888888888888888,
              "#fdca26"
             ],
             [
              1,
              "#f0f921"
             ]
            ],
            "type": "surface"
           }
          ],
          "table": [
           {
            "cells": {
             "fill": {
              "color": "#EBF0F8"
             },
             "line": {
              "color": "white"
             }
            },
            "header": {
             "fill": {
              "color": "#C8D4E3"
             },
             "line": {
              "color": "white"
             }
            },
            "type": "table"
           }
          ]
         },
         "layout": {
          "annotationdefaults": {
           "arrowcolor": "#2a3f5f",
           "arrowhead": 0,
           "arrowwidth": 1
          },
          "autotypenumbers": "strict",
          "coloraxis": {
           "colorbar": {
            "outlinewidth": 0,
            "ticks": ""
           }
          },
          "colorscale": {
           "diverging": [
            [
             0,
             "#8e0152"
            ],
            [
             0.1,
             "#c51b7d"
            ],
            [
             0.2,
             "#de77ae"
            ],
            [
             0.3,
             "#f1b6da"
            ],
            [
             0.4,
             "#fde0ef"
            ],
            [
             0.5,
             "#f7f7f7"
            ],
            [
             0.6,
             "#e6f5d0"
            ],
            [
             0.7,
             "#b8e186"
            ],
            [
             0.8,
             "#7fbc41"
            ],
            [
             0.9,
             "#4d9221"
            ],
            [
             1,
             "#276419"
            ]
           ],
           "sequential": [
            [
             0,
             "#0d0887"
            ],
            [
             0.1111111111111111,
             "#46039f"
            ],
            [
             0.2222222222222222,
             "#7201a8"
            ],
            [
             0.3333333333333333,
             "#9c179e"
            ],
            [
             0.4444444444444444,
             "#bd3786"
            ],
            [
             0.5555555555555556,
             "#d8576b"
            ],
            [
             0.6666666666666666,
             "#ed7953"
            ],
            [
             0.7777777777777778,
             "#fb9f3a"
            ],
            [
             0.8888888888888888,
             "#fdca26"
            ],
            [
             1,
             "#f0f921"
            ]
           ],
           "sequentialminus": [
            [
             0,
             "#0d0887"
            ],
            [
             0.1111111111111111,
             "#46039f"
            ],
            [
             0.2222222222222222,
             "#7201a8"
            ],
            [
             0.3333333333333333,
             "#9c179e"
            ],
            [
             0.4444444444444444,
             "#bd3786"
            ],
            [
             0.5555555555555556,
             "#d8576b"
            ],
            [
             0.6666666666666666,
             "#ed7953"
            ],
            [
             0.7777777777777778,
             "#fb9f3a"
            ],
            [
             0.8888888888888888,
             "#fdca26"
            ],
            [
             1,
             "#f0f921"
            ]
           ]
          },
          "colorway": [
           "#636efa",
           "#EF553B",
           "#00cc96",
           "#ab63fa",
           "#FFA15A",
           "#19d3f3",
           "#FF6692",
           "#B6E880",
           "#FF97FF",
           "#FECB52"
          ],
          "font": {
           "color": "#2a3f5f"
          },
          "geo": {
           "bgcolor": "white",
           "lakecolor": "white",
           "landcolor": "#E5ECF6",
           "showlakes": true,
           "showland": true,
           "subunitcolor": "white"
          },
          "hoverlabel": {
           "align": "left"
          },
          "hovermode": "closest",
          "mapbox": {
           "style": "light"
          },
          "paper_bgcolor": "white",
          "plot_bgcolor": "#E5ECF6",
          "polar": {
           "angularaxis": {
            "gridcolor": "white",
            "linecolor": "white",
            "ticks": ""
           },
           "bgcolor": "#E5ECF6",
           "radialaxis": {
            "gridcolor": "white",
            "linecolor": "white",
            "ticks": ""
           }
          },
          "scene": {
           "xaxis": {
            "backgroundcolor": "#E5ECF6",
            "gridcolor": "white",
            "gridwidth": 2,
            "linecolor": "white",
            "showbackground": true,
            "ticks": "",
            "zerolinecolor": "white"
           },
           "yaxis": {
            "backgroundcolor": "#E5ECF6",
            "gridcolor": "white",
            "gridwidth": 2,
            "linecolor": "white",
            "showbackground": true,
            "ticks": "",
            "zerolinecolor": "white"
           },
           "zaxis": {
            "backgroundcolor": "#E5ECF6",
            "gridcolor": "white",
            "gridwidth": 2,
            "linecolor": "white",
            "showbackground": true,
            "ticks": "",
            "zerolinecolor": "white"
           }
          },
          "shapedefaults": {
           "line": {
            "color": "#2a3f5f"
           }
          },
          "ternary": {
           "aaxis": {
            "gridcolor": "white",
            "linecolor": "white",
            "ticks": ""
           },
           "baxis": {
            "gridcolor": "white",
            "linecolor": "white",
            "ticks": ""
           },
           "bgcolor": "#E5ECF6",
           "caxis": {
            "gridcolor": "white",
            "linecolor": "white",
            "ticks": ""
           }
          },
          "title": {
           "x": 0.05
          },
          "xaxis": {
           "automargin": true,
           "gridcolor": "white",
           "linecolor": "white",
           "ticks": "",
           "title": {
            "standoff": 15
           },
           "zerolinecolor": "white",
           "zerolinewidth": 2
          },
          "yaxis": {
           "automargin": true,
           "gridcolor": "white",
           "linecolor": "white",
           "ticks": "",
           "title": {
            "standoff": 15
           },
           "zerolinecolor": "white",
           "zerolinewidth": 2
          }
         }
        },
        "title": {
         "text": "Representation of stress distribution by title",
         "x": 0.5
        },
        "width": 700
       }
      }
     },
     "metadata": {},
     "output_type": "display_data"
    }
   ],
   "source": [
    "value = data[\"subreddit\"].value_counts()\n",
    "value_index = value.index\n",
    "fig = px.pie(data, values = value, names = value_index, hole = 0.5,width = 700, height = 400)\n",
    "fig.update_layout(title = \"Representation of stress distribution by title\", title_x = 0.5)\n",
    "fig.show()"
   ]
  },
  {
   "cell_type": "code",
   "execution_count": 8,
   "metadata": {},
   "outputs": [
    {
     "data": {
      "text/plain": [
       "Text(0.5, 1.0, 'Target class distribution')"
      ]
     },
     "execution_count": 8,
     "metadata": {},
     "output_type": "execute_result"
    },
    {
     "data": {
      "image/png": "[encoded data removed]",
      "text/plain": [
       "<Figure size 432x288 with 1 Axes>"
      ]
     },
     "metadata": {
      "needs_background": "light"
     },
     "output_type": "display_data"
    }
   ],
   "source": [
    "# Class distribution\n",
    "plt.bar(data['label'].unique(), data['label'].value_counts(), color = ['yellow', 'orange'])\n",
    "plt.xticks([0,1])\n",
    "plt.xlabel(\"Target\")\n",
    "plt.ylabel(\"Counts\")\n",
    "plt.grid(False)\n",
    "plt.title(\"Target class distribution\")"
   ]
  },
  {
   "cell_type": "code",
   "execution_count": 9,
   "metadata": {},
   "outputs": [
    {
     "data": {
      "text/plain": [
       "array([[<AxesSubplot:ylabel='Density'>, <AxesSubplot:ylabel='Density'>,\n",
       "        <AxesSubplot:ylabel='Density'>],\n",
       "       [<AxesSubplot:ylabel='Density'>, <AxesSubplot:ylabel='Density'>,\n",
       "        <AxesSubplot:ylabel='Density'>],\n",
       "       [<AxesSubplot:ylabel='Density'>, <AxesSubplot:ylabel='Density'>,\n",
       "        <AxesSubplot:ylabel='Density'>]], dtype=object)"
      ]
     },
     "execution_count": 9,
     "metadata": {},
     "output_type": "execute_result"
    },
    {
     "data": {
      "image/png": "[encoded data removed]",
      "text/plain": [
       "<Figure size 1440x1440 with 9 Axes>"
      ]
     },
     "metadata": {
      "needs_background": "light"
     },
     "output_type": "display_data"
    }
   ],
   "source": [
    "data_dens = data[['subreddit','text','label', 'confidence', 'social_num_comments', 'sentiment', 'social_karma', 'social_upvote_ratio']]\n",
    "data_dens.plot(kind =\"density\", figsize=(20,20), sharex = False, subplots = True, layout = (3,3))"
   ]
  },
  {
   "cell_type": "markdown",
   "metadata": {},
   "source": [
    "#### **3.Data processing**\n",
    "Here, we process the data we are going to use for our analysis, by performing some cleaning..."
   ]
  },
  {
   "cell_type": "code",
   "execution_count": 10,
   "metadata": {},
   "outputs": [
    {
     "data": {
      "text/plain": [
       "'He said he had not felt that way before, suggeted I go rest and so ..TRIGGER AHEAD IF YOUI\\'RE A HYPOCONDRIAC LIKE ME: i decide to look up \"feelings of doom\" in hopes of maybe getting sucked into some rabbit hole of ludicrous conspiracy, a stupid \"are you psychic\" test or new age b.s., something I could even laugh at down the road. No, I ended up reading that this sense of doom can be indicative of various health ailments; one of which I am prone to.. So on top of my \"doom\" to my gloom..I am now f\\'n worried about my heart. I do happen to have a physical in 48 hours.'"
      ]
     },
     "execution_count": 10,
     "metadata": {},
     "output_type": "execute_result"
    }
   ],
   "source": [
    "data['text'][0]"
   ]
  },
  {
   "cell_type": "code",
   "execution_count": 11,
   "metadata": {},
   "outputs": [
    {
     "name": "stderr",
     "output_type": "stream",
     "text": [
      "[nltk_data] Downloading package stopwords to\n",
      "[nltk_data]     C:\\Users\\arman\\AppData\\Roaming\\nltk_data...\n",
      "[nltk_data]   Package stopwords is already up-to-date!\n"
     ]
    }
   ],
   "source": [
    "nltk.download('stopwords')\n",
    "stemmer = nltk.SnowballStemmer('english')\n",
    "stopword = set(stopwords.words('english'))\n",
    "\n",
    "def clean(text):\n",
    "    text = str(text).lower()\n",
    "    text = re.sub('\\[.*?\\]', '', text)\n",
    "    text = re.sub('https?://\\S+|www\\.\\S+', '', text)\n",
    "    text = re.sub('<.*?>+', '', text)\n",
    "    text = re.sub('[%s]' % re.escape(string.punctuation), '', text)\n",
    "    text = re.sub('\\n', '', text)\n",
    "    text = re.sub('\\w*\\d\\w*', '', text)\n",
    "    text = [word for word in text.split(' ') if word not in stopword]\n",
    "    text = ' '.join(text)\n",
    "    text = [stemmer.stem(word) for word in text.split(' ')]\n",
    "    text = ' '.join(text)\n",
    "    return text\n",
    "\n",
    "data['text'] = data['text'].apply(clean)"
   ]
  },
  {
   "cell_type": "code",
   "execution_count": 12,
   "metadata": {},
   "outputs": [
    {
     "data": {
      "text/plain": [
       "'said felt way sugget go rest trigger ahead youir hypocondriac like decid look feel doom hope mayb get suck rabbit hole ludicr conspiraci stupid psychic test new age bs someth could even laugh road end read sens doom indic various health ailment one prone top doom gloomi fn worri heart happen physic  hour'"
      ]
     },
     "execution_count": 12,
     "metadata": {},
     "output_type": "execute_result"
    }
   ],
   "source": [
    "data['text'][0]"
   ]
  },
  {
   "cell_type": "code",
   "execution_count": 13,
   "metadata": {},
   "outputs": [
    {
     "data": {
      "image/png": "[encoded data removed]",
      "text/plain": [
       "<Figure size 720x720 with 1 Axes>"
      ]
     },
     "metadata": {
      "needs_background": "light"
     },
     "output_type": "display_data"
    }
   ],
   "source": [
    "text = ' '.join(word for word in data.text)\n",
    "stopwords = set(STOPWORDS)\n",
    "wordcloud = WordCloud(stopwords = stopwords, background_color='white').generate(text)\n",
    "plt.figure(figsize=(10,10))\n",
    "plt.imshow(wordcloud, interpolation='bilinear')\n",
    "plt.axis('off')\n",
    "plt.show()"
   ]
  },
  {
   "cell_type": "markdown",
   "metadata": {},
   "source": [
    "#### **3. Stress detection model**\n",
    "Here we will design the models used to analyse the stress detection model."
   ]
  },
  {
   "cell_type": "code",
   "execution_count": 14,
   "metadata": {},
   "outputs": [
    {
     "name": "stdout",
     "output_type": "stream",
     "text": [
      "                                                text      label\n",
      "0  said felt way sugget go rest trigger ahead you...     Stress\n",
      "1  hey rassist sure right place post goe  im curr...  No stress\n",
      "2  mom hit newspap shock would know dont like pla...     Stress\n",
      "3  met new boyfriend amaz kind sweet good student...     Stress\n",
      "4  octob domest violenc awar month domest violenc...     Stress\n"
     ]
    }
   ],
   "source": [
    "# changing labels from 0 and 1 to No Stress and Stress.\n",
    "# data.loc[data['label'] == 1, 'label'] = 'Stress'\n",
    "# data.loc[data['label'] == 0, 'label'] = 'No Stress'\n",
    "# Another straight forward approach could be\n",
    "data['label'] = np.where(data[\"label\"] == 0, \"No stress\", \"Stress\")\n",
    "data_new = data[['text','label']]\n",
    "print(data_new.head())"
   ]
  },
  {
   "cell_type": "code",
   "execution_count": 15,
   "metadata": {},
   "outputs": [],
   "source": [
    "# Converting and splitting dataset \n",
    "from sklearn.model_selection import train_test_split\n",
    "from sklearn.feature_extraction.text import CountVectorizer\n",
    "\n",
    "x = np.array(data['text'])\n",
    "# print(\"len: \", len(x), \"shape: \", x.shape)\n",
    "y = np.array(data['label'])\n",
    "# print(\"len: \", len(y), \"shape: \", y.shape)\n",
    "\n",
    "cv = CountVectorizer()\n",
    "X = cv.fit_transform(x)\n",
    "\n",
    "xtrain, xtest, ytrain, ytest = train_test_split(X, y, test_size = 0.33, random_state = 23)"
   ]
  },
  {
   "cell_type": "code",
   "execution_count": 16,
   "metadata": {},
   "outputs": [],
   "source": [
    "# model selection\n",
    "from sklearn.model_selection import train_test_split\n",
    "from sklearn.naive_bayes import BernoulliNB\n",
    "from sklearn.tree import DecisionTreeClassifier\n",
    "from sklearn.neighbors import KNeighborsClassifier\n",
    "from sklearn.linear_model import LogisticRegression\n",
    "from sklearn.linear_model import PassiveAggressiveClassifier"
   ]
  },
  {
   "cell_type": "code",
   "execution_count": 48,
   "metadata": {},
   "outputs": [
    {
     "data": {
      "text/html": [
       "<div>\n",
       "<style scoped>\n",
       "    .dataframe tbody tr th:only-of-type {\n",
       "        vertical-align: middle;\n",
       "    }\n",
       "\n",
       "    .dataframe tbody tr th {\n",
       "        vertical-align: top;\n",
       "    }\n",
       "\n",
       "    .dataframe thead th {\n",
       "        text-align: right;\n",
       "    }\n",
       "</style>\n",
       "<table border=\"1\" class=\"dataframe\">\n",
       "  <thead>\n",
       "    <tr style=\"text-align: right;\">\n",
       "      <th></th>\n",
       "      <th>Models</th>\n",
       "      <th>Performance</th>\n",
       "    </tr>\n",
       "  </thead>\n",
       "  <tbody>\n",
       "    <tr>\n",
       "      <th>0</th>\n",
       "      <td>Bernouilli Classifier</td>\n",
       "      <td>0.732124</td>\n",
       "    </tr>\n",
       "    <tr>\n",
       "      <th>1</th>\n",
       "      <td>decision_tree</td>\n",
       "      <td>0.584845</td>\n",
       "    </tr>\n",
       "    <tr>\n",
       "      <th>2</th>\n",
       "      <td>kneighbors</td>\n",
       "      <td>0.559232</td>\n",
       "    </tr>\n",
       "    <tr>\n",
       "      <th>3</th>\n",
       "      <td>logistic_regression</td>\n",
       "      <td>0.723586</td>\n",
       "    </tr>\n",
       "  </tbody>\n",
       "</table>\n",
       "</div>"
      ],
      "text/plain": [
       "                  Models  Performance\n",
       "0  Bernouilli Classifier     0.732124\n",
       "1          decision_tree     0.584845\n",
       "2             kneighbors     0.559232\n",
       "3    logistic_regression     0.723586"
      ]
     },
     "execution_count": 48,
     "metadata": {},
     "output_type": "execute_result"
    }
   ],
   "source": [
    "# initiatialize models\n",
    "bernouilli_model = BernoulliNB()\n",
    "decision_tree_model = DecisionTreeClassifier()\n",
    "kneighbors_model = KNeighborsClassifier()\n",
    "logistic_regression_model = LogisticRegression()\n",
    "\n",
    "# fitting models\n",
    "bernouilli_fit = bernouilli_model.fit(xtrain, ytrain)\n",
    "decision_tree_fit = decision_tree_model.fit(xtrain, ytrain)\n",
    "kneighbors_fit = kneighbors_model.fit(xtrain, ytrain)\n",
    "logistic_regression_fit = logistic_regression_model.fit(xtrain, ytrain)\n",
    "\n",
    "model_performance = {\n",
    "\n",
    "                    \"Models\" : ['Bernouilli Classifier', 'decision_tree', 'kneighbors', 'logistic_regression'],\n",
    "                    \"Performance\" : [bernouilli_fit.score(xtest, ytest), decision_tree_fit.score(xtest, ytest), kneighbors_fit.score(xtest, ytest), \n",
    "                                      logistic_regression_fit.score(xtest, ytest)]\n",
    "                    }\n",
    "\n",
    "models_df = pd.DataFrame(model_performance)\n",
    "models_df.sort_values(by=[\"Performance\"], ascending=True)\n",
    "# print(models_df.to_markdown())\n",
    "models_df"
   ]
  },
  {
   "cell_type": "markdown",
   "metadata": {},
   "source": [
    "#### **Testing models with given sentences**"
   ]
  },
  {
   "cell_type": "code",
   "execution_count": 18,
   "metadata": {},
   "outputs": [
    {
     "name": "stdout",
     "output_type": "stream",
     "text": [
      " BernoulliNB() : ['No stress']\n",
      " DecisionTreeClassifier() : ['No stress']\n",
      " KNeighborsClassifier() : ['No stress']\n",
      " LogisticRegression() : ['No stress']\n"
     ]
    }
   ],
   "source": [
    "user_input = input(\"Enter your: \") \n",
    "# user_input = \" I am sick and tired of this job it is really hard and i feel stress out\"\n",
    "user_data = cv.transform([user_input]).toarray()\n",
    "models = [bernouilli_fit, decision_tree_fit, kneighbors_fit, logistic_regression_fit]\n",
    "output = [model.predict(user_data) for model in models]\n",
    "for idx, out in enumerate(output):\n",
    "    print(f\" {models[idx]} : {out}\")"
   ]
  },
  {
   "cell_type": "markdown",
   "metadata": {},
   "source": [
    "### __Conclusion__\n",
    "In this tutorial, we built models capable of analyzing stress based on features."
   ]
  }
 ],
 "metadata": {
  "kernelspec": {
   "display_name": "Python 3.7.6 ('base')",
   "language": "python",
   "name": "python3"
  },
  "language_info": {
   "codemirror_mode": {
    "name": "ipython",
    "version": 3
   },
   "file_extension": ".py",
   "mimetype": "text/x-python",
   "name": "python",
   "nbconvert_exporter": "python",
   "pygments_lexer": "ipython3",
   "version": "3.7.6"
  },
  "orig_nbformat": 4,
  "vscode": {
   "interpreter": {
    "hash": "db816d7616de24ade41e083521320c478457ecc7c227d9955d702456c2841bc9"
   }
  }
 },
 "nbformat": 4,
 "nbformat_minor": 2
}
